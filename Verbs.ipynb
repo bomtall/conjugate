{
 "cells": [
  {
   "cell_type": "code",
   "execution_count": 3,
   "metadata": {},
   "outputs": [],
   "source": [
    "import ipywidgets as widgets"
   ]
  },
  {
   "cell_type": "code",
   "execution_count": 4,
   "metadata": {},
   "outputs": [],
   "source": [
    "def present_tense(verb): \n",
    "    \n",
    "    # Conjugating present tense verbs\n",
    "    \n",
    "    suffix = \"ing\"\n",
    "    \n",
    "    consonant = \"qwrtypsdfghjklzxcvbnm\"\n",
    "    vowel = \"aeiou\"\n",
    "\n",
    "    if verb.endswith(\"ie\"):\n",
    "        verb = verb[0:-2] + \"y\"        \n",
    "    \n",
    "    elif verb.endswith(\"e\") and not verb.endswith(\"ee\"):\n",
    "        verb = verb[0:-1]         \n",
    "            \n",
    "    elif verb[-3] in consonant and verb[-2] in vowel and verb[-1] in consonant:\n",
    "        verb = verb + verb[-1]\n",
    "            \n",
    "    else: suffix = \"ing\"      \n",
    "    \n",
    "            \n",
    "    return verb + suffix\n",
    "\n",
    "\n",
    "# Testing\n",
    "\n",
    "assert present_tense(\"drum\") == \"drumming\"\n",
    "assert present_tense(\"die\") == \"dying\"\n",
    "assert present_tense(\"drink\") == \"drinking\"\n",
    "assert present_tense(\"mine\") == \"mining\"\n",
    "assert present_tense(\"see\") == \"seeing\""
   ]
  },
  {
   "cell_type": "markdown",
   "metadata": {},
   "source": [
    "# Conjugation for present tense"
   ]
  },
  {
   "cell_type": "code",
   "execution_count": 45,
   "metadata": {},
   "outputs": [
    {
     "data": {
      "application/vnd.jupyter.widget-view+json": {
       "model_id": "750542b18fa24f1096724da108b07925",
       "version_major": 2,
       "version_minor": 0
      },
      "text/plain": [
       "Text(value='', placeholder='Please input a verb')"
      ]
     },
     "metadata": {},
     "output_type": "display_data"
    },
    {
     "data": {
      "application/vnd.jupyter.widget-view+json": {
       "model_id": "21465f6787a54774ad8c24a43e01df60",
       "version_major": 2,
       "version_minor": 0
      },
      "text/plain": [
       "HTML(value='')"
      ]
     },
     "metadata": {},
     "output_type": "display_data"
    }
   ],
   "source": [
    "user_input = widgets.Text(placeholder=\"Please input a verb\")\n",
    "user_output = widgets.HTML()\n",
    "\n",
    "def update_from_user_input(widget):\n",
    "    try:\n",
    "        user_output.value = \"Your present tense verb is: \" + present_tense(widget['new'])\n",
    "    except:\n",
    "        user_output.value = \"Waiting for user input...\"\n",
    "\n",
    "user_input.observe(update_from_user_input, names='value')\n",
    "\n",
    "display(user_input)\n",
    "display(user_output)"
   ]
  },
  {
   "cell_type": "code",
   "execution_count": 34,
   "metadata": {},
   "outputs": [],
   "source": [
    "# # Input\n",
    "\n",
    "# print(\"Enter your verb here:\")\n",
    "\n",
    "# x = input()\n",
    "\n",
    "# print(\"Your present tense verb is: \" + present_tense(x))"
   ]
  }
 ],
 "metadata": {
  "kernelspec": {
   "display_name": "Python 3",
   "language": "python",
   "name": "python3"
  },
  "language_info": {
   "codemirror_mode": {
    "name": "ipython",
    "version": 3
   },
   "file_extension": ".py",
   "mimetype": "text/x-python",
   "name": "python",
   "nbconvert_exporter": "python",
   "pygments_lexer": "ipython3",
   "version": "3.8.5"
  }
 },
 "nbformat": 4,
 "nbformat_minor": 4
}
