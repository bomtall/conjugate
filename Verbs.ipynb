{
 "cells": [
  {
   "cell_type": "code",
   "execution_count": 3,
   "metadata": {},
   "outputs": [
    {
     "name": "stdout",
     "output_type": "stream",
     "text": [
      "Enter your verb here:\n",
      "chair\n",
      "Your present tense verb is: chairing\n"
     ]
    }
   ],
   "source": [
    "def present_tense(verb): \n",
    "    \n",
    "    # Conjugating present tense verbs\n",
    "    \n",
    "    suffix = \"ing\"\n",
    "    \n",
    "    consonant = \"qwrtypsdfghjklzxcvbnm\"\n",
    "    vowel = \"aeiou\"\n",
    "\n",
    "    if verb.endswith(\"ie\"):\n",
    "        verb = verb[0:-2] + \"y\"        \n",
    "    \n",
    "    elif verb.endswith(\"e\") and not verb.endswith(\"ee\"):\n",
    "        verb = verb[0:-1]         \n",
    "            \n",
    "    elif verb[-3] in consonant and verb[-2] in vowel and verb[-1] in consonant:\n",
    "        verb = verb + verb[-1]\n",
    "            \n",
    "    else: suffix = \"ing\"      \n",
    "    \n",
    "            \n",
    "    return verb + suffix\n",
    "\n",
    "\n",
    "# Testing\n",
    "\n",
    "assert present_tense(\"drum\") == \"drumming\"\n",
    "assert present_tense(\"die\") == \"dying\"\n",
    "assert present_tense(\"drink\") == \"drinking\"\n",
    "assert present_tense(\"mine\") == \"mining\"\n",
    "assert present_tense(\"see\") == \"seeing\"\n",
    "\n",
    "# Input\n",
    "\n",
    "print(\"Enter your verb here:\")\n",
    "\n",
    "x = input()\n",
    "\n",
    "print(\"Your present tense verb is: \" + present_tense(x))"
   ]
  }
 ],
 "metadata": {
  "kernelspec": {
   "display_name": "Python 3",
   "language": "python",
   "name": "python3"
  },
  "language_info": {
   "codemirror_mode": {
    "name": "ipython",
    "version": 3
   },
   "file_extension": ".py",
   "mimetype": "text/x-python",
   "name": "python",
   "nbconvert_exporter": "python",
   "pygments_lexer": "ipython3",
   "version": "3.8.3"
  }
 },
 "nbformat": 4,
 "nbformat_minor": 4
}
